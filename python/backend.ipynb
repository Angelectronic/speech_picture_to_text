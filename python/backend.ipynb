{
 "cells": [
  {
   "cell_type": "code",
   "execution_count": 1,
   "metadata": {},
   "outputs": [
    {
     "name": "stderr",
     "output_type": "stream",
     "text": [
      "INFO:     Started server process [10736]\n",
      "INFO:     Waiting for application startup.\n",
      "INFO:     Application startup complete.\n",
      "INFO:     Uvicorn running on http://127.0.0.1:8000 (Press CTRL+C to quit)\n"
     ]
    },
    {
     "name": "stdout",
     "output_type": "stream",
     "text": [
      "INFO:     127.0.0.1:61036 - \"POST /convertAudio HTTP/1.1\" 200 OK\n"
     ]
    },
    {
     "name": "stderr",
     "output_type": "stream",
     "text": [
      "INFO:     Shutting down\n",
      "INFO:     Waiting for application shutdown.\n",
      "INFO:     Application shutdown complete.\n",
      "INFO:     Finished server process [10736]\n"
     ]
    }
   ],
   "source": [
    "import speech_recognition as sr\n",
    "from fastapi import FastAPI, File, UploadFile\n",
    "from fastapi.middleware.cors import CORSMiddleware\n",
    "import uvicorn\n",
    "import asyncio\n",
    "import pytesseract\n",
    "\n",
    "r = sr.Recognizer()\n",
    "app = FastAPI()\n",
    "\n",
    "origins = [\n",
    "    \"http://localhost:3000\",\n",
    "]\n",
    "\n",
    "app.add_middleware(\n",
    "    CORSMiddleware,\n",
    "    allow_origins=origins,  # Cho phép các nguồn gốc được xác định\n",
    "    allow_credentials=True,\n",
    "    allow_methods=[\"*\"],  # Cho phép tất cả các phương thức (GET, POST, PUT, DELETE)\n",
    "    allow_headers=[\"*\"],  # Cho phép tất cả các headers\n",
    ")\n",
    "\n",
    "@app.get(\"/\")\n",
    "async def read_root():\n",
    "    return {\"Hello\": \"World\"}\n",
    "\n",
    "@app.post(\"/convertAudio\")\n",
    "async def convert_audio_to_text(file: UploadFile = File(...)):\n",
    "    with open(f\"./audio/{file.filename.split('.')[0]}.wav\", \"wb\") as audio:\n",
    "        audio.write(file.file.read())\n",
    "    with sr.AudioFile(\"./audio/\" + file.filename.split('.')[0] + \".wav\") as source:\n",
    "        audio = r.record(source)\n",
    "    try:\n",
    "        text = r.recognize_google(audio)\n",
    "    except sr.UnknownValueError:\n",
    "        text = \"Could not understand the audio\"\n",
    "    except sr.RequestError as e:\n",
    "        text = \"Could not request results; {0}\".format(e)\n",
    "    return {\"text\": text}\n",
    "\n",
    "@app.post(\"/getImg\")\n",
    "async def get_img(file: UploadFile = File(...)):\n",
    "    with open(f\"./img/{file.filename.split('.')[0]}.jpg\", \"wb\") as img:\n",
    "        img.write(file.file.read())\n",
    "    return True\n",
    "\n",
    "@app.get(\"/convertImg\")\n",
    "async def convert_img_to_text():\n",
    "    text = pytesseract.image_to_string(\"img.jpg\")\n",
    "    return {\"text\": text}\n",
    "        \n",
    "if __name__ == \"__main__\":\n",
    "    config = uvicorn.Config(app)\n",
    "    server = uvicorn.Server(config)\n",
    "    await server.serve()"
   ]
  },
  {
   "cell_type": "code",
   "execution_count": null,
   "metadata": {},
   "outputs": [],
   "source": []
  }
 ],
 "metadata": {
  "kernelspec": {
   "display_name": "base",
   "language": "python",
   "name": "python3"
  },
  "language_info": {
   "codemirror_mode": {
    "name": "ipython",
    "version": 3
   },
   "file_extension": ".py",
   "mimetype": "text/x-python",
   "name": "python",
   "nbconvert_exporter": "python",
   "pygments_lexer": "ipython3",
   "version": "3.9.18"
  }
 },
 "nbformat": 4,
 "nbformat_minor": 2
}
