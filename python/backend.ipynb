{
 "cells": [
  {
   "cell_type": "code",
   "execution_count": null,
   "metadata": {},
   "outputs": [],
   "source": [
    "import speech_recognition as sr\n",
    "from fastapi import FastAPI, File, UploadFile\n",
    "from fastapi.middleware.cors import CORSMiddleware\n",
    "import uvicorn\n",
    "import asyncio\n",
    "\n",
    "r = sr.Recognizer()\n",
    "app = FastAPI()\n",
    "\n",
    "origins = [\n",
    "    \"http://localhost:3000\",\n",
    "]\n",
    "\n",
    "app.add_middleware(\n",
    "    CORSMiddleware,\n",
    "    allow_origins=origins,  # Cho phép các nguồn gốc được xác định\n",
    "    allow_credentials=True,\n",
    "    allow_methods=[\"*\"],  # Cho phép tất cả các phương thức (GET, POST, PUT, DELETE)\n",
    "    allow_headers=[\"*\"],  # Cho phép tất cả các headers\n",
    ")\n",
    "\n",
    "@app.get(\"/\")\n",
    "async def read_root():\n",
    "    return {\"Hello\": \"World\"}\n",
    "\n",
    "@app.post(\"/convertAudio\")\n",
    "async def convert_audio_to_text(file: UploadFile = File(...)):\n",
    "    with open(\"audio.wav\", \"wb\") as audio:\n",
    "        audio.write(file.file.read())\n",
    "    with sr.AudioFile(\"audio.wav\") as source:\n",
    "        audio = r.record(source)\n",
    "    try:\n",
    "        text = r.recognize_google(audio)\n",
    "    except sr.UnknownValueError:\n",
    "        text = \"Could not understand the audio\"\n",
    "    except sr.RequestError as e:\n",
    "        text = \"Could not request results; {0}\".format(e)\n",
    "    return {\"text\": text}\n",
    "\n",
    "@app.post(\"/getImg\")\n",
    "async def get_img(file: UploadFile = File(...)):\n",
    "    with open(\"img.jpg\", \"wb\") as img:\n",
    "        img.write(file.file.read())\n",
    "    return True\n",
    "        \n",
    "if __name__ == \"__main__\":\n",
    "    config = uvicorn.Config(app)\n",
    "    server = uvicorn.Server(config)\n",
    "    await server.serve()"
   ]
  },
  {
   "cell_type": "code",
   "execution_count": null,
   "metadata": {},
   "outputs": [],
   "source": []
  }
 ],
 "metadata": {
  "kernelspec": {
   "display_name": "base",
   "language": "python",
   "name": "python3"
  },
  "language_info": {
   "codemirror_mode": {
    "name": "ipython",
    "version": 3
   },
   "file_extension": ".py",
   "mimetype": "text/x-python",
   "name": "python",
   "nbconvert_exporter": "python",
   "pygments_lexer": "ipython3",
   "version": "3.9.18"
  }
 },
 "nbformat": 4,
 "nbformat_minor": 2
}
